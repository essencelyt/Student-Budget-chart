{
 "cells": [
  {
   "cell_type": "code",
   "execution_count": 1,
   "id": "8a145840",
   "metadata": {},
   "outputs": [
    {
     "name": "stdout",
     "output_type": "stream",
     "text": [
      "Enter your monthly expense goal(USD): 2500\n"
     ]
    }
   ],
   "source": [
    "monthly_expense_goal = int(input(\"Enter your monthly expense goal(USD): \"))"
   ]
  },
  {
   "cell_type": "code",
   "execution_count": 2,
   "id": "2fb42fbf",
   "metadata": {},
   "outputs": [
    {
     "name": "stdout",
     "output_type": "stream",
     "text": [
      "Enter how much you spend on rent(USD): 700\n",
      "Enter how much you spend on utilities(USD): 450.50\n",
      "Enter how much you spend on transportation(USD): 175.50\n",
      "Enter how much you spend on food(USD): 400\n"
     ]
    }
   ],
   "source": [
    "#Expenses\n",
    "rent_amount = int(input(\"Enter how much you spend on rent(USD): \"))\n",
    "utilities_amount= float(input(\"Enter how much you spend on utilities(USD): \"))\n",
    "transportation_amount = float(input(\"Enter how much you spend on transportation(USD): \")) \n",
    "food_amount = int(input(\"Enter how much you spend on food(USD): \"))"
   ]
  },
  {
   "cell_type": "code",
   "execution_count": 3,
   "id": "f31ba187",
   "metadata": {},
   "outputs": [],
   "source": [
    "#Additional expense\n",
    "car_payment = 325.75"
   ]
  },
  {
   "cell_type": "code",
   "execution_count": 4,
   "id": "e39c3932",
   "metadata": {},
   "outputs": [
    {
     "name": "stdout",
     "output_type": "stream",
     "text": [
      "2051.75\n"
     ]
    }
   ],
   "source": [
    "#To get total expenses\n",
    "total_expenses = rent_amount + utilities_amount + transportation_amount + food_amount + car_payment\n",
    "print(total_expenses)"
   ]
  },
  {
   "cell_type": "code",
   "execution_count": 5,
   "id": "6a6d056a",
   "metadata": {},
   "outputs": [
    {
     "name": "stdout",
     "output_type": "stream",
     "text": [
      "448.25\n"
     ]
    }
   ],
   "source": [
    "#To get amount leftover\n",
    "amount_leftover = monthly_expense_goal - total_expenses\n",
    "print(amount_leftover)"
   ]
  },
  {
   "cell_type": "code",
   "execution_count": 6,
   "id": "ebb5c9be",
   "metadata": {},
   "outputs": [
    {
     "name": "stdout",
     "output_type": "stream",
     "text": [
      "34.11721700986962\n",
      "21.956866089923235\n",
      "8.553673693188742\n",
      "19.495552577068356\n",
      "15.876690629950044\n"
     ]
    }
   ],
   "source": [
    "#To calculate the percentages of each expense\n",
    "rent_percentage = (rent_amount / total_expenses) * 100\n",
    "print(rent_percentage)\n",
    "\n",
    "utilities_percentage = (utilities_amount / total_expenses) * 100\n",
    "print(utilities_percentage)\n",
    "\n",
    "transportation_percentage = (transportation_amount / total_expenses) * 100\n",
    "print(transportation_percentage)\n",
    "\n",
    "food_percentage = (food_amount / total_expenses) * 100\n",
    "print(food_percentage)\n",
    "\n",
    "car_payment_percentage = (car_payment / total_expenses) * 100\n",
    "print(car_payment_percentage)"
   ]
  },
  {
   "cell_type": "code",
   "execution_count": 7,
   "id": "e41fde0b",
   "metadata": {},
   "outputs": [
    {
     "name": "stdout",
     "output_type": "stream",
     "text": [
      "Enter your monthly expense goal(USD): 2500\n",
      "Enter how much you spend on rent(USD): 700\n",
      "Enter how much you spend on utilities(USD): 450.50\n",
      "Enter how much you spend on transportation(USD): 175.50\n",
      "Enter how much you spend on food(USD): 400\n",
      "\n",
      "Budget Chart For Miracle: \n",
      "Expenses             Amount         Percent%  \n",
      "Rent                 700.00          34.12\n",
      "Utilities            450.50          21.96\n",
      "Transportation       175.50          8.55\n",
      "Food                 400.00          19.50\n",
      "Car Payment          325.75          15.88\n",
      "                                                            \n",
      "Monthly Goal         2500.00\n",
      "Total Expenses       2051.75\n",
      "Amount Leftover      448.25\n"
     ]
    }
   ],
   "source": [
    "#NEAT CHART\n",
    "monthly_expense_goal = int(input(\"Enter your monthly expense goal(USD): \"))\n",
    "#Expenses\n",
    "rent_amount = int(input(\"Enter how much you spend on rent(USD): \"))\n",
    "utilities_amount= float(input(\"Enter how much you spend on utilities(USD): \"))\n",
    "transportation_amount = float(input(\"Enter how much you spend on transportation(USD): \")) \n",
    "food_amount = int(input(\"Enter how much you spend on food(USD): \"))\n",
    "\n",
    "#Budget Chart\n",
    "#\"\\n\" is an escape sequence that represents a newline character, causing the text following it to start on a new line.\n",
    "#<20 means the word \"Expenses\" will be left-aligned within a space of 20 characters.\n",
    "#' '*(20-len('') means the spaces needed to fill a total width of 20 characters. It is done to align the columns neatly.\n",
    "#.2f means precision should be set to two decimal places\n",
    "\n",
    "print(\"\\nBudget Chart For Miracle: \")\n",
    "print(f\"{'Expenses':<20} {'Amount':<10}     {'Percent%':<10}\")\n",
    "print(f\"Rent{' '*(20-len('Rent'))} {rent_amount:.2f}          {rent_percentage:.2f}\")\n",
    "print(f\"Utilities{' '*(20-len('Utilities'))} {utilities_amount:.2f}          {utilities_percentage:.2f}\")\n",
    "print(f\"Transportation{' '*(20-len('Transportation'))} {transportation_amount:.2f}          {transportation_percentage:.2f}\")\n",
    "print(f\"Food{' '*(20-len('Food'))} {food_amount:.2f}          {food_percentage:.2f}\")\n",
    "print(f\"Car Payment{' '*(20-len('Car Payment'))} {car_payment:.2f}          {car_payment_percentage:.2f}\")\n",
    "\n",
    "#line seperator\n",
    "print(\" \"*60)\n",
    "\n",
    "#Additional Expenses\n",
    "print(f\"Monthly Goal{' '*(20-len('Monthly Goal'))} {monthly_expense_goal:.2f}\")\n",
    "print(f\"Total Expenses{' '*(20-len('Total Expenses'))} {total_expenses:.2f}\")\n",
    "print(f\"Amount Leftover{' '*(20-len('Amount Leftover'))} {amount_leftover:.2f}\")"
   ]
  }
 ],
 "metadata": {
  "kernelspec": {
   "display_name": "Python 3 (ipykernel)",
   "language": "python",
   "name": "python3"
  },
  "language_info": {
   "codemirror_mode": {
    "name": "ipython",
    "version": 3
   },
   "file_extension": ".py",
   "mimetype": "text/x-python",
   "name": "python",
   "nbconvert_exporter": "python",
   "pygments_lexer": "ipython3",
   "version": "3.11.3"
  }
 },
 "nbformat": 4,
 "nbformat_minor": 5
}
